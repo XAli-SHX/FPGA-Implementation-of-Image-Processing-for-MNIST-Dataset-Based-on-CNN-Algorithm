{
 "cells": [
  {
   "cell_type": "code",
   "execution_count": 31,
   "metadata": {},
   "outputs": [],
   "source": [
    "from pynq import Overlay\n",
    "import time\n",
    "overlay = Overlay(\"./design_1.bit\")"
   ]
  },
  {
   "cell_type": "code",
   "execution_count": null,
   "metadata": {},
   "outputs": [],
   "source": [
    "def print_time(start, end):\n",
    "    print(f'time = {end-start}')"
   ]
  },
  {
   "cell_type": "code",
   "execution_count": 32,
   "metadata": {},
   "outputs": [
    {
     "data": {
      "text/plain": [
       "{'axi_dma_0': {'addr_range': 65536,\n",
       "  'device': <pynq.pl_server.device.XlnkDevice at 0xb0279370>,\n",
       "  'driver': pynq.lib.dma.DMA,\n",
       "  'fullpath': 'axi_dma_0',\n",
       "  'gpio': {},\n",
       "  'interrupts': {},\n",
       "  'mem_id': 'S_AXI_LITE',\n",
       "  'parameters': {'C_BASEADDR': '0x40400000',\n",
       "   'C_DLYTMR_RESOLUTION': '125',\n",
       "   'C_ENABLE_MULTI_CHANNEL': '0',\n",
       "   'C_FAMILY': 'zynq',\n",
       "   'C_HIGHADDR': '0x4040FFFF',\n",
       "   'C_INCLUDE_MM2S': '1',\n",
       "   'C_INCLUDE_MM2S_DRE': '0',\n",
       "   'C_INCLUDE_MM2S_SF': '1',\n",
       "   'C_INCLUDE_S2MM': '1',\n",
       "   'C_INCLUDE_S2MM_DRE': '0',\n",
       "   'C_INCLUDE_S2MM_SF': '1',\n",
       "   'C_INCLUDE_SG': '0',\n",
       "   'C_INCREASE_THROUGHPUT': '0',\n",
       "   'C_MICRO_DMA': '0',\n",
       "   'C_MM2S_BURST_SIZE': '16',\n",
       "   'C_M_AXIS_MM2S_CNTRL_TDATA_WIDTH': '32',\n",
       "   'C_M_AXIS_MM2S_TDATA_WIDTH': '32',\n",
       "   'C_M_AXI_MM2S_ADDR_WIDTH': '32',\n",
       "   'C_M_AXI_MM2S_DATA_WIDTH': '64',\n",
       "   'C_M_AXI_S2MM_ADDR_WIDTH': '32',\n",
       "   'C_M_AXI_S2MM_DATA_WIDTH': '32',\n",
       "   'C_M_AXI_SG_ADDR_WIDTH': '32',\n",
       "   'C_M_AXI_SG_DATA_WIDTH': '32',\n",
       "   'C_NUM_MM2S_CHANNELS': '1',\n",
       "   'C_NUM_S2MM_CHANNELS': '1',\n",
       "   'C_PRMRY_IS_ACLK_ASYNC': '0',\n",
       "   'C_S2MM_BURST_SIZE': '16',\n",
       "   'C_SG_INCLUDE_STSCNTRL_STRM': '0',\n",
       "   'C_SG_LENGTH_WIDTH': '26',\n",
       "   'C_SG_USE_STSAPP_LENGTH': '0',\n",
       "   'C_S_AXIS_S2MM_STS_TDATA_WIDTH': '32',\n",
       "   'C_S_AXIS_S2MM_TDATA_WIDTH': '32',\n",
       "   'C_S_AXI_LITE_ADDR_WIDTH': '10',\n",
       "   'C_S_AXI_LITE_DATA_WIDTH': '32',\n",
       "   'Component_Name': 'design_1_axi_dma_0_1',\n",
       "   'EDK_IPTYPE': 'PERIPHERAL',\n",
       "   'c_addr_width': '32',\n",
       "   'c_dlytmr_resolution': '125',\n",
       "   'c_enable_multi_channel': '0',\n",
       "   'c_include_mm2s': '1',\n",
       "   'c_include_mm2s_dre': '0',\n",
       "   'c_include_mm2s_sf': '1',\n",
       "   'c_include_s2mm': '1',\n",
       "   'c_include_s2mm_dre': '0',\n",
       "   'c_include_s2mm_sf': '1',\n",
       "   'c_include_sg': '0',\n",
       "   'c_increase_throughput': '0',\n",
       "   'c_m_axi_mm2s_data_width': '64',\n",
       "   'c_m_axi_s2mm_data_width': '32',\n",
       "   'c_m_axis_mm2s_tdata_width': '32',\n",
       "   'c_micro_dma': '0',\n",
       "   'c_mm2s_burst_size': '16',\n",
       "   'c_num_mm2s_channels': '1',\n",
       "   'c_num_s2mm_channels': '1',\n",
       "   'c_prmry_is_aclk_async': '0',\n",
       "   'c_s2mm_burst_size': '16',\n",
       "   'c_s_axis_s2mm_tdata_width': '32',\n",
       "   'c_sg_include_stscntrl_strm': '0',\n",
       "   'c_sg_length_width': '26',\n",
       "   'c_sg_use_stsapp_length': '0',\n",
       "   'c_single_interface': '0'},\n",
       "  'phys_addr': 1077936128,\n",
       "  'registers': {'MM2S_CURDESC': {'access': 'read-write',\n",
       "    'address_offset': 8,\n",
       "    'description': 'MM2S DMA Current Descriptor Pointer Register',\n",
       "    'fields': {'Current_Descriptor_Pointer': {'access': 'read-write',\n",
       "      'bit_offset': 6,\n",
       "      'bit_width': 26,\n",
       "      'description': 'MM2S DMA Current Descriptor Pointer Register'}},\n",
       "    'size': 32},\n",
       "   'MM2S_CURDESC_MSB': {'access': 'read-write',\n",
       "    'address_offset': 12,\n",
       "    'description': 'MM2S DMA Current Descriptor Pointer Register',\n",
       "    'fields': {'Current_Descriptor_Pointer': {'access': 'read-write',\n",
       "      'bit_offset': 0,\n",
       "      'bit_width': 32,\n",
       "      'description': 'MM2S DMA Current Descriptor Pointer Register'}},\n",
       "    'size': 32},\n",
       "   'MM2S_DMACR': {'access': 'read-write',\n",
       "    'address_offset': 0,\n",
       "    'description': 'MM2S DMA Control Register',\n",
       "    'fields': {'Cyclic_BD_Enable': {'access': 'read-write',\n",
       "      'bit_offset': 4,\n",
       "      'bit_width': 1,\n",
       "      'description': 'MM2S DMA Control Register'},\n",
       "     'Dly_IrqEn': {'access': 'read-write',\n",
       "      'bit_offset': 13,\n",
       "      'bit_width': 1,\n",
       "      'description': 'MM2S DMA Control Register'},\n",
       "     'Err_IrqEn': {'access': 'read-write',\n",
       "      'bit_offset': 14,\n",
       "      'bit_width': 1,\n",
       "      'description': 'MM2S DMA Control Register'},\n",
       "     'IOC_IrqEn': {'access': 'read-write',\n",
       "      'bit_offset': 12,\n",
       "      'bit_width': 1,\n",
       "      'description': 'MM2S DMA Control Register'},\n",
       "     'IRQDelay': {'access': 'read-write',\n",
       "      'bit_offset': 24,\n",
       "      'bit_width': 8,\n",
       "      'description': 'MM2S DMA Control Register'},\n",
       "     'IRQThreshold': {'access': 'read-write',\n",
       "      'bit_offset': 16,\n",
       "      'bit_width': 8,\n",
       "      'description': 'MM2S DMA Control Register'},\n",
       "     'Keyhole': {'access': 'read-write',\n",
       "      'bit_offset': 3,\n",
       "      'bit_width': 1,\n",
       "      'description': 'MM2S DMA Control Register'},\n",
       "     'RS': {'access': 'read-write',\n",
       "      'bit_offset': 0,\n",
       "      'bit_width': 1,\n",
       "      'description': 'MM2S DMA Control Register'},\n",
       "     'Reset': {'access': 'read-write',\n",
       "      'bit_offset': 2,\n",
       "      'bit_width': 1,\n",
       "      'description': 'MM2S DMA Control Register'}},\n",
       "    'size': 32},\n",
       "   'MM2S_DMASR': {'access': 'read-write',\n",
       "    'address_offset': 4,\n",
       "    'description': 'MM2S DMA Status Register',\n",
       "    'fields': {'DMADecErr': {'access': 'read-only',\n",
       "      'bit_offset': 6,\n",
       "      'bit_width': 1,\n",
       "      'description': 'MM2S DMA Status Register'},\n",
       "     'DMAIntErr': {'access': 'read-only',\n",
       "      'bit_offset': 4,\n",
       "      'bit_width': 1,\n",
       "      'description': 'MM2S DMA Status Register'},\n",
       "     'DMASlvErr': {'access': 'read-only',\n",
       "      'bit_offset': 5,\n",
       "      'bit_width': 1,\n",
       "      'description': 'MM2S DMA Status Register'},\n",
       "     'Dly_Irq': {'access': 'read-write',\n",
       "      'bit_offset': 13,\n",
       "      'bit_width': 1,\n",
       "      'description': 'MM2S DMA Status Register'},\n",
       "     'Err_Irq': {'access': 'read-write',\n",
       "      'bit_offset': 14,\n",
       "      'bit_width': 1,\n",
       "      'description': 'MM2S DMA Status Register'},\n",
       "     'Halted': {'access': 'read-only',\n",
       "      'bit_offset': 0,\n",
       "      'bit_width': 1,\n",
       "      'description': 'MM2S DMA Status Register'},\n",
       "     'IOC_Irq': {'access': 'read-write',\n",
       "      'bit_offset': 12,\n",
       "      'bit_width': 1,\n",
       "      'description': 'MM2S DMA Status Register'},\n",
       "     'IRQDelaySts': {'access': 'read-only',\n",
       "      'bit_offset': 24,\n",
       "      'bit_width': 8,\n",
       "      'description': 'MM2S DMA Status Register'},\n",
       "     'IRQThresholdSts': {'access': 'read-only',\n",
       "      'bit_offset': 16,\n",
       "      'bit_width': 8,\n",
       "      'description': 'MM2S DMA Status Register'},\n",
       "     'Idle': {'access': 'read-only',\n",
       "      'bit_offset': 1,\n",
       "      'bit_width': 1,\n",
       "      'description': 'MM2S DMA Status Register'},\n",
       "     'SGDecErr': {'access': 'read-only',\n",
       "      'bit_offset': 10,\n",
       "      'bit_width': 1,\n",
       "      'description': 'MM2S DMA Status Register'},\n",
       "     'SGIncld': {'access': 'read-only',\n",
       "      'bit_offset': 3,\n",
       "      'bit_width': 1,\n",
       "      'description': 'MM2S DMA Status Register'},\n",
       "     'SGIntErr': {'access': 'read-only',\n",
       "      'bit_offset': 8,\n",
       "      'bit_width': 1,\n",
       "      'description': 'MM2S DMA Status Register'},\n",
       "     'SGSlvErr': {'access': 'read-only',\n",
       "      'bit_offset': 9,\n",
       "      'bit_width': 1,\n",
       "      'description': 'MM2S DMA Status Register'}},\n",
       "    'size': 32},\n",
       "   'MM2S_LENGTH': {'access': 'read-write',\n",
       "    'address_offset': 40,\n",
       "    'description': 'MM2S DMA Transfer Length Register',\n",
       "    'fields': {'Length': {'access': 'read-write',\n",
       "      'bit_offset': 0,\n",
       "      'bit_width': 26,\n",
       "      'description': 'MM2S DMA Transfer Length Register'}},\n",
       "    'size': 32},\n",
       "   'MM2S_SA': {'access': 'read-write',\n",
       "    'address_offset': 24,\n",
       "    'description': 'MM2S Source Address Register',\n",
       "    'fields': {'Source_Address': {'access': 'read-write',\n",
       "      'bit_offset': 0,\n",
       "      'bit_width': 32,\n",
       "      'description': 'MM2S Source Address Register'}},\n",
       "    'size': 32},\n",
       "   'MM2S_SA_MSB': {'access': 'read-write',\n",
       "    'address_offset': 28,\n",
       "    'description': 'MM2S Source Address Register',\n",
       "    'fields': {'Source_Address': {'access': 'read-write',\n",
       "      'bit_offset': 0,\n",
       "      'bit_width': 32,\n",
       "      'description': 'MM2S Source Address Register'}},\n",
       "    'size': 32},\n",
       "   'MM2S_TAILDESC': {'access': 'read-write',\n",
       "    'address_offset': 16,\n",
       "    'description': 'MM2S DMA Tail Descriptor Pointer Register',\n",
       "    'fields': {'Tail_Descriptor_Pointer': {'access': 'read-write',\n",
       "      'bit_offset': 6,\n",
       "      'bit_width': 26,\n",
       "      'description': 'MM2S DMA Tail Descriptor Pointer Register'}},\n",
       "    'size': 32},\n",
       "   'MM2S_TAILDESC_MSB': {'access': 'read-write',\n",
       "    'address_offset': 20,\n",
       "    'description': 'MM2S DMA Tail Descriptor Pointer Register',\n",
       "    'fields': {'Tail_Descriptor_Pointer': {'access': 'read-write',\n",
       "      'bit_offset': 0,\n",
       "      'bit_width': 32,\n",
       "      'description': 'MM2S DMA Tail Descriptor Pointer Register'}},\n",
       "    'size': 32},\n",
       "   'S2MM_CURDESC': {'access': 'read-write',\n",
       "    'address_offset': 56,\n",
       "    'description': 'S2MM DMA Current Descriptor Pointer Register',\n",
       "    'fields': {'Current_Descriptor_Pointer': {'access': 'read-write',\n",
       "      'bit_offset': 6,\n",
       "      'bit_width': 26,\n",
       "      'description': 'S2MM DMA Current Descriptor Pointer Register'}},\n",
       "    'size': 32},\n",
       "   'S2MM_CURDESC_MSB': {'access': 'read-write',\n",
       "    'address_offset': 60,\n",
       "    'description': 'S2MM DMA Current Descriptor Pointer Register',\n",
       "    'fields': {'Current_Descriptor_Pointer': {'access': 'read-write',\n",
       "      'bit_offset': 0,\n",
       "      'bit_width': 32,\n",
       "      'description': 'S2MM DMA Current Descriptor Pointer Register'}},\n",
       "    'size': 32},\n",
       "   'S2MM_DA': {'access': 'read-write',\n",
       "    'address_offset': 72,\n",
       "    'description': 'S2MM DMA Destination Address Register',\n",
       "    'fields': {'Destination_Address': {'access': 'read-write',\n",
       "      'bit_offset': 0,\n",
       "      'bit_width': 32,\n",
       "      'description': 'S2MM DMA Destination Address Register'}},\n",
       "    'size': 32},\n",
       "   'S2MM_DA_MSB': {'access': 'read-write',\n",
       "    'address_offset': 76,\n",
       "    'description': 'S2MM Destination Address Register',\n",
       "    'fields': {'Destination_Address': {'access': 'read-write',\n",
       "      'bit_offset': 0,\n",
       "      'bit_width': 32,\n",
       "      'description': 'S2MM Destination Address Register'}},\n",
       "    'size': 32},\n",
       "   'S2MM_DMACR': {'access': 'read-write',\n",
       "    'address_offset': 48,\n",
       "    'description': 'S2MM DMA Control Register',\n",
       "    'fields': {'Cyclic_BD_Enable': {'access': 'read-write',\n",
       "      'bit_offset': 4,\n",
       "      'bit_width': 1,\n",
       "      'description': 'S2MM DMA Control Register'},\n",
       "     'Dly_IrqEn': {'access': 'read-write',\n",
       "      'bit_offset': 13,\n",
       "      'bit_width': 1,\n",
       "      'description': 'S2MM DMA Control Register'},\n",
       "     'Err_IrqEn': {'access': 'read-write',\n",
       "      'bit_offset': 14,\n",
       "      'bit_width': 1,\n",
       "      'description': 'S2MM DMA Control Register'},\n",
       "     'IOC_IrqEn': {'access': 'read-write',\n",
       "      'bit_offset': 12,\n",
       "      'bit_width': 1,\n",
       "      'description': 'S2MM DMA Control Register'},\n",
       "     'IRQDelay': {'access': 'read-write',\n",
       "      'bit_offset': 24,\n",
       "      'bit_width': 8,\n",
       "      'description': 'S2MM DMA Control Register'},\n",
       "     'IRQThreshold': {'access': 'read-write',\n",
       "      'bit_offset': 16,\n",
       "      'bit_width': 8,\n",
       "      'description': 'S2MM DMA Control Register'},\n",
       "     'Keyhole': {'access': 'read-write',\n",
       "      'bit_offset': 3,\n",
       "      'bit_width': 1,\n",
       "      'description': 'S2MM DMA Control Register'},\n",
       "     'RS': {'access': 'read-write',\n",
       "      'bit_offset': 0,\n",
       "      'bit_width': 1,\n",
       "      'description': 'S2MM DMA Control Register'},\n",
       "     'Reset': {'access': 'read-write',\n",
       "      'bit_offset': 2,\n",
       "      'bit_width': 1,\n",
       "      'description': 'S2MM DMA Control Register'}},\n",
       "    'size': 32},\n",
       "   'S2MM_DMASR': {'access': 'read-write',\n",
       "    'address_offset': 52,\n",
       "    'description': 'S2MM DMA Status Register',\n",
       "    'fields': {'DMADecErr': {'access': 'read-only',\n",
       "      'bit_offset': 6,\n",
       "      'bit_width': 1,\n",
       "      'description': 'S2MM DMA Status Register'},\n",
       "     'DMAIntErr': {'access': 'read-only',\n",
       "      'bit_offset': 4,\n",
       "      'bit_width': 1,\n",
       "      'description': 'S2MM DMA Status Register'},\n",
       "     'DMASlvErr': {'access': 'read-only',\n",
       "      'bit_offset': 5,\n",
       "      'bit_width': 1,\n",
       "      'description': 'S2MM DMA Status Register'},\n",
       "     'Dly_Irq': {'access': 'read-write',\n",
       "      'bit_offset': 13,\n",
       "      'bit_width': 1,\n",
       "      'description': 'S2MM DMA Status Register'},\n",
       "     'Err_Irq': {'access': 'read-write',\n",
       "      'bit_offset': 14,\n",
       "      'bit_width': 1,\n",
       "      'description': 'S2MM DMA Status Register'},\n",
       "     'Halted': {'access': 'read-only',\n",
       "      'bit_offset': 0,\n",
       "      'bit_width': 1,\n",
       "      'description': 'S2MM DMA Status Register'},\n",
       "     'IOC_Irq': {'access': 'read-write',\n",
       "      'bit_offset': 12,\n",
       "      'bit_width': 1,\n",
       "      'description': 'S2MM DMA Status Register'},\n",
       "     'IRQDelaySts': {'access': 'read-only',\n",
       "      'bit_offset': 24,\n",
       "      'bit_width': 8,\n",
       "      'description': 'S2MM DMA Status Register'},\n",
       "     'IRQThresholdSts': {'access': 'read-only',\n",
       "      'bit_offset': 16,\n",
       "      'bit_width': 8,\n",
       "      'description': 'S2MM DMA Status Register'},\n",
       "     'Idle': {'access': 'read-only',\n",
       "      'bit_offset': 1,\n",
       "      'bit_width': 1,\n",
       "      'description': 'S2MM DMA Status Register'},\n",
       "     'SGDecErr': {'access': 'read-only',\n",
       "      'bit_offset': 10,\n",
       "      'bit_width': 1,\n",
       "      'description': 'S2MM DMA Status Register'},\n",
       "     'SGIncld': {'access': 'read-only',\n",
       "      'bit_offset': 3,\n",
       "      'bit_width': 1,\n",
       "      'description': 'S2MM DMA Status Register'},\n",
       "     'SGIntErr': {'access': 'read-only',\n",
       "      'bit_offset': 8,\n",
       "      'bit_width': 1,\n",
       "      'description': 'S2MM DMA Status Register'},\n",
       "     'SGSlvErr': {'access': 'read-only',\n",
       "      'bit_offset': 9,\n",
       "      'bit_width': 1,\n",
       "      'description': 'S2MM DMA Status Register'}},\n",
       "    'size': 32},\n",
       "   'S2MM_LENGTH': {'access': 'read-write',\n",
       "    'address_offset': 88,\n",
       "    'description': 'S2MM DMA Transfer Length Register',\n",
       "    'fields': {'Length': {'access': 'read-write',\n",
       "      'bit_offset': 0,\n",
       "      'bit_width': 26,\n",
       "      'description': 'S2MM DMA Transfer Length Register'}},\n",
       "    'size': 32},\n",
       "   'S2MM_TAILDESC': {'access': 'read-write',\n",
       "    'address_offset': 64,\n",
       "    'description': 'S2MM DMA Tail Descriptor Pointer Register',\n",
       "    'fields': {'Tail_Descriptor_Pointer': {'access': 'read-write',\n",
       "      'bit_offset': 6,\n",
       "      'bit_width': 26,\n",
       "      'description': 'S2MM DMA Tail Descriptor Pointer Register'}},\n",
       "    'size': 32},\n",
       "   'S2MM_TAILDESC_MSB': {'access': 'read-write',\n",
       "    'address_offset': 68,\n",
       "    'description': 'S2MM DMA Tail Descriptor Pointer Register',\n",
       "    'fields': {'Tail_Descriptor_Pointer': {'access': 'read-write',\n",
       "      'bit_offset': 0,\n",
       "      'bit_width': 32,\n",
       "      'description': 'S2MM DMA Tail Descriptor Pointer Register'}},\n",
       "    'size': 32},\n",
       "   'SG_CTL': {'access': 'read-write',\n",
       "    'address_offset': 44,\n",
       "    'description': 'Scatter/Gather User and Cache Control Register',\n",
       "    'fields': {'SG_CACHE': {'access': 'read-write',\n",
       "      'bit_offset': 0,\n",
       "      'bit_width': 4,\n",
       "      'description': 'Scatter/Gather User and Cache Control Register'},\n",
       "     'SG_USER': {'access': 'read-write',\n",
       "      'bit_offset': 8,\n",
       "      'bit_width': 4,\n",
       "      'description': 'Scatter/Gather User and Cache Control Register'}},\n",
       "    'size': 32}},\n",
       "  'state': None,\n",
       "  'type': 'xilinx.com:ip:axi_dma:7.1'}}"
      ]
     },
     "execution_count": 32,
     "metadata": {},
     "output_type": "execute_result"
    }
   ],
   "source": [
    "overlay.ip_dict"
   ]
  },
  {
   "cell_type": "code",
   "execution_count": 33,
   "metadata": {},
   "outputs": [],
   "source": [
    "overlay?"
   ]
  },
  {
   "cell_type": "code",
   "execution_count": 34,
   "metadata": {},
   "outputs": [],
   "source": [
    "dma = overlay.axi_dma_0\n",
    "dma?"
   ]
  },
  {
   "cell_type": "markdown",
   "metadata": {},
   "source": [
    "## Allocate PS Memory Buffers"
   ]
  },
  {
   "cell_type": "code",
   "execution_count": 36,
   "metadata": {},
   "outputs": [],
   "source": [
    "from pynq import allocate\n",
    "import numpy as np\n",
    "\n",
    "data_size = 784\n",
    "input_buffer = allocate(shape=(data_size,), dtype=np.uint32) # ~4MB"
   ]
  },
  {
   "cell_type": "code",
   "execution_count": 37,
   "metadata": {},
   "outputs": [],
   "source": [
    "for i in range(data_size):\n",
    "    input_buffer[i] = i + 0xcafe0000"
   ]
  },
  {
   "cell_type": "markdown",
   "metadata": {},
   "source": [
    "### Print first few values of buffer"
   ]
  },
  {
   "cell_type": "code",
   "execution_count": 41,
   "metadata": {},
   "outputs": [
    {
     "name": "stdout",
     "output_type": "stream",
     "text": [
      "0xcafe0000\n",
      "0xcafe0001\n",
      "0xcafe0002\n",
      "0xcafe0003\n",
      "0xcafe0004\n",
      "0xcafe0005\n",
      "0xcafe0006\n",
      "0xcafe0007\n",
      "0xcafe0008\n",
      "0xcafe0009\n"
     ]
    }
   ],
   "source": [
    "for i in range(10):\n",
    "    print(hex(input_buffer[i]))"
   ]
  },
  {
   "cell_type": "code",
   "execution_count": 42,
   "metadata": {},
   "outputs": [],
   "source": [
    "print('start dma send')\n",
    "start = time.time()\n",
    "dma.sendchannel.transfer(input_buffer)\n",
    "dma.sendchannel.wait()\n",
    "end = time.time()\n",
    "print('end dma send')\n",
    "print_time(start, end)"
   ]
  },
  {
   "cell_type": "markdown",
   "metadata": {},
   "source": [
    "## Read From DMA"
   ]
  },
  {
   "cell_type": "code",
   "execution_count": 43,
   "metadata": {},
   "outputs": [
    {
     "name": "stdout",
     "output_type": "stream",
     "text": [
      "0x00\n",
      "0x00\n",
      "0x00\n",
      "0x00\n",
      "0x00\n",
      "0x00\n",
      "0x00\n",
      "0x00\n",
      "0x00\n",
      "0x00\n"
     ]
    }
   ],
   "source": [
    "output_buffer = allocate(shape=(data_size,), dtype=np.uint32)\n",
    "\n",
    "for i in range(10):\n",
    "    print('0x' + format(output_buffer[i], '02x'))"
   ]
  },
  {
   "cell_type": "markdown",
   "metadata": {},
   "source": [
    "### Initiate the read"
   ]
  },
  {
   "cell_type": "code",
   "execution_count": 44,
   "metadata": {},
   "outputs": [],
   "source": [
    "print('start dma recv')\n",
    "start = time.time()\n",
    "dma.recvchannel.transfer(output_buffer)\n",
    "dma.recvchannel.wait()\n",
    "end = time.time()\n",
    "print('end dma recv')\n",
    "print_time(start, end)"
   ]
  },
  {
   "cell_type": "markdown",
   "metadata": {},
   "source": [
    "### Check the result"
   ]
  },
  {
   "cell_type": "code",
   "execution_count": 45,
   "metadata": {},
   "outputs": [
    {
     "name": "stdout",
     "output_type": "stream",
     "text": [
      "0xcafe0000\n",
      "0xcafe0001\n",
      "0xcafe0002\n",
      "0xcafe0003\n",
      "0xcafe0004\n",
      "0xcafe0005\n",
      "0xcafe0006\n",
      "0xcafe0007\n",
      "0x00\n",
      "0x00\n"
     ]
    }
   ],
   "source": [
    "for i in range(10):\n",
    "    print('0x' + format(output_buffer[i], '02x'))"
   ]
  },
  {
   "cell_type": "markdown",
   "metadata": {},
   "source": [
    "## Verify that the arrays are equal"
   ]
  },
  {
   "cell_type": "code",
   "execution_count": 24,
   "metadata": {},
   "outputs": [
    {
     "name": "stdout",
     "output_type": "stream",
     "text": [
      "Arrays are equal: True\n"
     ]
    }
   ],
   "source": [
    "print('Arrays are equal: {}'.format(np.array_equal(input_buffer, output_buffer)))"
   ]
  },
  {
   "cell_type": "markdown",
   "metadata": {},
   "source": [
    "### Check If Any Errors"
   ]
  },
  {
   "cell_type": "code",
   "execution_count": 68,
   "metadata": {},
   "outputs": [
    {
     "data": {
      "text/plain": [
       "False"
      ]
     },
     "execution_count": 68,
     "metadata": {},
     "output_type": "execute_result"
    }
   ],
   "source": [
    "dma.recvchannel.idle"
   ]
  },
  {
   "cell_type": "markdown",
   "metadata": {},
   "source": [
    "## DMA Register Map"
   ]
  },
  {
   "cell_type": "code",
   "execution_count": 69,
   "metadata": {},
   "outputs": [
    {
     "data": {
      "text/plain": [
       "RegisterMap {\n",
       "  MM2S_DMACR = Register(RS=1, Reset=0, Keyhole=0, Cyclic_BD_Enable=0, IOC_IrqEn=0, Dly_IrqEn=0, Err_IrqEn=0, IRQThreshold=1, IRQDelay=0),\n",
       "  MM2S_DMASR = Register(Halted=0, Idle=1, SGIncld=0, DMAIntErr=0, DMASlvErr=0, DMADecErr=0, SGIntErr=0, SGSlvErr=0, SGDecErr=0, IOC_Irq=1, Dly_Irq=0, Err_Irq=0, IRQThresholdSts=0, IRQDelaySts=0),\n",
       "  MM2S_CURDESC = Register(Current_Descriptor_Pointer=0),\n",
       "  MM2S_CURDESC_MSB = Register(Current_Descriptor_Pointer=0),\n",
       "  MM2S_TAILDESC = Register(Tail_Descriptor_Pointer=0),\n",
       "  MM2S_TAILDESC_MSB = Register(Tail_Descriptor_Pointer=0),\n",
       "  MM2S_SA = Register(Source_Address=402976768),\n",
       "  MM2S_SA_MSB = Register(Source_Address=0),\n",
       "  MM2S_LENGTH = Register(Length=40),\n",
       "  SG_CTL = Register(SG_CACHE=0, SG_USER=0),\n",
       "  S2MM_DMACR = Register(RS=1, Reset=0, Keyhole=0, Cyclic_BD_Enable=0, IOC_IrqEn=0, Dly_IrqEn=0, Err_IrqEn=0, IRQThreshold=1, IRQDelay=0),\n",
       "  S2MM_DMASR = Register(Halted=0, Idle=0, SGIncld=0, DMAIntErr=0, DMASlvErr=0, DMADecErr=0, SGIntErr=0, SGSlvErr=0, SGDecErr=0, IOC_Irq=0, Dly_Irq=0, Err_Irq=0, IRQThresholdSts=0, IRQDelaySts=0),\n",
       "  S2MM_CURDESC = Register(Current_Descriptor_Pointer=0),\n",
       "  S2MM_CURDESC_MSB = Register(Current_Descriptor_Pointer=0),\n",
       "  S2MM_TAILDESC = Register(Tail_Descriptor_Pointer=0),\n",
       "  S2MM_TAILDESC_MSB = Register(Tail_Descriptor_Pointer=0),\n",
       "  S2MM_DA = Register(Destination_Address=402980864),\n",
       "  S2MM_DA_MSB = Register(Destination_Address=0),\n",
       "  S2MM_LENGTH = Register(Length=40)\n",
       "}"
      ]
     },
     "execution_count": 69,
     "metadata": {},
     "output_type": "execute_result"
    }
   ],
   "source": [
    "dma.register_map"
   ]
  },
  {
   "cell_type": "markdown",
   "metadata": {},
   "source": [
    "### Trigger an error"
   ]
  },
  {
   "cell_type": "code",
   "execution_count": 70,
   "metadata": {},
   "outputs": [
    {
     "ename": "RuntimeError",
     "evalue": "DMA channel not idle",
     "output_type": "error",
     "traceback": [
      "\u001b[0;31m---------------------------------------------------------------------------\u001b[0m",
      "\u001b[0;31mRuntimeError\u001b[0m                              Traceback (most recent call last)",
      "\u001b[0;32m<ipython-input-70-85a68780f746>\u001b[0m in \u001b[0;36m<module>\u001b[0;34m()\u001b[0m\n\u001b[0;32m----> 1\u001b[0;31m \u001b[0mdma\u001b[0m\u001b[0;34m.\u001b[0m\u001b[0mrecvchannel\u001b[0m\u001b[0;34m.\u001b[0m\u001b[0mtransfer\u001b[0m\u001b[0;34m(\u001b[0m\u001b[0moutput_buffer\u001b[0m\u001b[0;34m)\u001b[0m\u001b[0;34m\u001b[0m\u001b[0m\n\u001b[0m",
      "\u001b[0;32m/usr/local/lib/python3.6/dist-packages/pynq/lib/dma.py\u001b[0m in \u001b[0;36mtransfer\u001b[0;34m(self, array)\u001b[0m\n\u001b[1;32m    120\u001b[0m             \u001b[0;32mraise\u001b[0m \u001b[0mRuntimeError\u001b[0m\u001b[0;34m(\u001b[0m\u001b[0;34m'DMA channel not started'\u001b[0m\u001b[0;34m)\u001b[0m\u001b[0;34m\u001b[0m\u001b[0m\n\u001b[1;32m    121\u001b[0m         \u001b[0;32mif\u001b[0m \u001b[0;32mnot\u001b[0m \u001b[0mself\u001b[0m\u001b[0;34m.\u001b[0m\u001b[0midle\u001b[0m \u001b[0;32mand\u001b[0m \u001b[0;32mnot\u001b[0m \u001b[0mself\u001b[0m\u001b[0;34m.\u001b[0m\u001b[0m_first_transfer\u001b[0m\u001b[0;34m:\u001b[0m\u001b[0;34m\u001b[0m\u001b[0m\n\u001b[0;32m--> 122\u001b[0;31m             \u001b[0;32mraise\u001b[0m \u001b[0mRuntimeError\u001b[0m\u001b[0;34m(\u001b[0m\u001b[0;34m'DMA channel not idle'\u001b[0m\u001b[0;34m)\u001b[0m\u001b[0;34m\u001b[0m\u001b[0m\n\u001b[0m\u001b[1;32m    123\u001b[0m         \u001b[0;32mif\u001b[0m \u001b[0mself\u001b[0m\u001b[0;34m.\u001b[0m\u001b[0m_flush_before\u001b[0m\u001b[0;34m:\u001b[0m\u001b[0;34m\u001b[0m\u001b[0m\n\u001b[1;32m    124\u001b[0m             \u001b[0marray\u001b[0m\u001b[0;34m.\u001b[0m\u001b[0mflush\u001b[0m\u001b[0;34m(\u001b[0m\u001b[0;34m)\u001b[0m\u001b[0;34m\u001b[0m\u001b[0m\n",
      "\u001b[0;31mRuntimeError\u001b[0m: DMA channel not idle"
     ]
    }
   ],
   "source": [
    "dma.recvchannel.transfer(output_buffer)"
   ]
  },
  {
   "cell_type": "code",
   "execution_count": null,
   "metadata": {},
   "outputs": [],
   "source": [
    "dma.register_map"
   ]
  },
  {
   "cell_type": "code",
   "execution_count": null,
   "metadata": {},
   "outputs": [],
   "source": [
    "hex(input_buffer.physical_address)"
   ]
  },
  {
   "cell_type": "code",
   "execution_count": null,
   "metadata": {},
   "outputs": [],
   "source": [
    "hex(output_buffer.physical_address)"
   ]
  },
  {
   "cell_type": "markdown",
   "metadata": {},
   "source": [
    "## Free Memory Buffers"
   ]
  },
  {
   "cell_type": "code",
   "execution_count": null,
   "metadata": {},
   "outputs": [],
   "source": [
    "del input_buffer, output_buffer"
   ]
  }
 ],
 "metadata": {
  "kernelspec": {
   "display_name": "Python 3",
   "language": "python",
   "name": "python3"
  },
  "language_info": {
   "codemirror_mode": {
    "name": "ipython",
    "version": 3
   },
   "file_extension": ".py",
   "mimetype": "text/x-python",
   "name": "python",
   "nbconvert_exporter": "python",
   "pygments_lexer": "ipython3",
   "version": "3.6.5"
  }
 },
 "nbformat": 4,
 "nbformat_minor": 2
}
