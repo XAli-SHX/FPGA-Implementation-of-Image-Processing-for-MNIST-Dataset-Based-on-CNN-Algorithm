{
  "nbformat": 4,
  "nbformat_minor": 0,
  "metadata": {
    "colab": {
      "provenance": []
    },
    "kernelspec": {
      "name": "python3",
      "display_name": "Python 3"
    },
    "language_info": {
      "name": "python"
    }
  },
  "cells": [
    {
      "cell_type": "markdown",
      "source": [
        "Set base dir to sync google drive folder with colab"
      ],
      "metadata": {
        "id": "pqTSchliSaJ9"
      }
    },
    {
      "cell_type": "code",
      "execution_count": 1,
      "metadata": {
        "id": "tqzOiU4ORYyZ"
      },
      "outputs": [],
      "source": [
        "BASE_DIR = \"/content/drive/MyDrive/University/Thesis/mnist_cnn_raw\"\n",
        "import os\n",
        "os.chdir(BASE_DIR)"
      ]
    },
    {
      "cell_type": "markdown",
      "source": [
        "`save_weights_as_json.py`"
      ],
      "metadata": {
        "id": "hiEKFKaYhp7Z"
      }
    },
    {
      "cell_type": "code",
      "source": [
        "from tensorflow import keras\n",
        "import numpy as np\n",
        "import json\n",
        "\n",
        "\n",
        "def _kerasToList(weight: list) -> list:\n",
        "    kernel = weight[0]\n",
        "    bias = weight[1]\n",
        "    return [kernel.numpy().tolist(), bias.numpy().tolist()]\n",
        "\n",
        "def _saveListAsJson(listToSave: list, name: str):\n",
        "    with open(name, \"w\") as fp:\n",
        "        json.dump(listToSave, fp)\n",
        "        fp.close()\n",
        "\n",
        "def main():\n",
        "    model = keras.models.load_model(\"./trained_model.h5\", compile=True)\n",
        "    model.summary()\n",
        "\n",
        "    layer0_conv2d = model.layers[0]\n",
        "    layer2_conv2d = model.layers[2]\n",
        "    layer6_dense = model.layers[6]\n",
        "\n",
        "    layer0_conv2d_weights = layer0_conv2d.weights\n",
        "    layer2_conv2d_weights = layer2_conv2d.weights\n",
        "    layer6_dense_weights = layer6_dense.weights\n",
        "\n",
        "    layer0_conv2d_weights_list = _kerasToList(layer0_conv2d_weights)\n",
        "    _saveListAsJson(layer0_conv2d_weights_list, \"./weights/json/layer0_conv2d.json\")\n",
        "    layer2_conv2d_weights_list = _kerasToList(layer2_conv2d_weights)\n",
        "    _saveListAsJson(layer2_conv2d_weights_list, \"./weights/json/layer2_conv2d.json\")\n",
        "    layer6_dense_weights_list = _kerasToList(layer6_dense_weights)\n",
        "    _saveListAsJson(layer6_dense_weights_list, \"./weights/json/layer6_dense.json\")\n",
        "\n",
        "if __name__ == \"__main__\":\n",
        "    main()"
      ],
      "metadata": {
        "id": "yee_mLO_RyBY",
        "colab": {
          "base_uri": "https://localhost:8080/"
        },
        "outputId": "d936884c-5a0e-493c-fcd8-02483b154f5a"
      },
      "execution_count": 2,
      "outputs": [
        {
          "output_type": "stream",
          "name": "stdout",
          "text": [
            "Model: \"sequential\"\n",
            "_________________________________________________________________\n",
            " Layer (type)                Output Shape              Param #   \n",
            "=================================================================\n",
            " conv2d (Conv2D)             (None, 26, 26, 32)        320       \n",
            "                                                                 \n",
            " max_pooling2d (MaxPooling2D  (None, 13, 13, 32)       0         \n",
            " )                                                               \n",
            "                                                                 \n",
            " conv2d_1 (Conv2D)           (None, 11, 11, 64)        18496     \n",
            "                                                                 \n",
            " max_pooling2d_1 (MaxPooling  (None, 5, 5, 64)         0         \n",
            " 2D)                                                             \n",
            "                                                                 \n",
            " flatten (Flatten)           (None, 1600)              0         \n",
            "                                                                 \n",
            " dropout (Dropout)           (None, 1600)              0         \n",
            "                                                                 \n",
            " dense (Dense)               (None, 10)                16010     \n",
            "                                                                 \n",
            "=================================================================\n",
            "Total params: 34,826\n",
            "Trainable params: 34,826\n",
            "Non-trainable params: 0\n",
            "_________________________________________________________________\n"
          ]
        }
      ]
    },
    {
      "cell_type": "markdown",
      "source": [
        "`layers.py`"
      ],
      "metadata": {
        "id": "0pwr_VIAr9TN"
      }
    },
    {
      "cell_type": "code",
      "source": [
        "import numpy as np\n",
        "import random\n",
        "import math\n",
        "\n",
        "def ReLU(image: list, shape: tuple) -> list:\n",
        "    width = shape[0]\n",
        "    height = shape[1]\n",
        "    channelIn = shape[2]\n",
        "    out = np.zeros((width, height, channelIn))\n",
        "    for y in range(height):\n",
        "        for x in range(width):\n",
        "            for chIn in range(channelIn):\n",
        "                data = image[x][y][chIn]\n",
        "                out[x][y][chIn] = data * (data > 0)\n",
        "    # print(f\"out shape: {out.shape}\")\n",
        "    # print(f\"in shape: {np.array(image).shape}\")\n",
        "    return out.tolist()\n",
        "\n",
        "def softmax(image: list) ->list:\n",
        "    imgLen = len(image)\n",
        "    exps = [math.exp(pxi) for pxi in image]\n",
        "    expSum = sum(exps)\n",
        "    out = [ei / expSum for ei in exps]\n",
        "    return out\n",
        "\n",
        "def conv2d(inputImage: list, inputShape: tuple, kernel: list, kernelShape: tuple) -> list:\n",
        "    width = inputShape[0]\n",
        "    height = inputShape[1]\n",
        "    channelIn = inputShape[2]\n",
        "    kxSize = kernelShape[0]\n",
        "    kySize = kernelShape[1]\n",
        "    channelOut = kernelShape[2]\n",
        "\n",
        "    outputImage = np.zeros((width - kxSize + 1, height - kySize + 1, channelOut))\n",
        "\n",
        "    for y in range(height - kySize + 1):\n",
        "        for x in range(width - kxSize + 1):\n",
        "            for chOut in range(channelOut):\n",
        "                for chIn in range(channelIn):\n",
        "                    for ky in range(kySize):\n",
        "                        for kx in range(kxSize):\n",
        "                    \n",
        "                            if ((y + ky) >= height) or ((x + kx) >= width):\n",
        "                                continue\n",
        "                            kr = kernel[0][kx][ky][chIn][chOut]\n",
        "                            # print(f\"x = {x}, y = {y}, chIn = {chIn}, kx = {kx}, ky = {ky}, chOut = {chOut}\")\n",
        "                            px = inputImage[x + kx][y + ky][chIn]\n",
        "                            outputImage[x][y][chOut] += kr * px\n",
        "                bias = kernel[1][chOut]\n",
        "                outputImage[x][y][chOut] += bias \n",
        "    return outputImage.tolist()\n",
        "\n",
        "\n",
        "def maxPooling2d(inputImage: list, shape: tuple, poolSize: tuple):\n",
        "    width = shape[0]\n",
        "    height = shape[1]\n",
        "    channelIn = shape[2]\n",
        "    pxSize = poolSize[0]\n",
        "    pySize = poolSize[1]\n",
        "    outImage = np.zeros((width // pxSize, height // pySize, channelIn))\n",
        "    for y in range(0, height, pySize):\n",
        "        for x in range(0, width, pxSize):\n",
        "            for chIn in range(channelIn): \n",
        "                max = inputImage[x][y][chIn]\n",
        "                for py in range(pySize):\n",
        "                    for px in range(pxSize):\n",
        "                        if (x + px) >= width or (y + py) >= height:\n",
        "                            continue\n",
        "                        if inputImage[x + px][y + py][chIn] > max:\n",
        "                            max = inputImage[x + px][y + py][chIn]\n",
        "                            if (y // pySize >= height // pySize) or \\\n",
        "                               (x // pxSize >= width // pxSize):\n",
        "                                continue\n",
        "                            outImage[x // pxSize][y // pySize][chIn] = max\n",
        "    return outImage.tolist()\n",
        "\n",
        "def flatten(inputImage: list) -> list:\n",
        "    arr = np.array(inputImage)\n",
        "    return arr.flatten().tolist()\n",
        "\n",
        "def dropout(inputImageFlat: list, rate: float) -> list:\n",
        "    out = np.zeros(len(inputImageFlat))\n",
        "    for i in range(len(inputImageFlat)):\n",
        "        if random.uniform(0, 1) < rate:\n",
        "            out[i] = 0\n",
        "        else:\n",
        "            out[i] = inputImageFlat[i]\n",
        "    # bypass layer\n",
        "    return inputImageFlat\n",
        "\n",
        "def dense(inputImageFlat: list, weights: list, shape: tuple) -> list:\n",
        "    inLen = shape[0]\n",
        "    outLen = shape[1]\n",
        "    mulWeights = weights[0]\n",
        "    biasWeights = weights[1]\n",
        "    out = np.zeros(outLen)\n",
        "    for o in range(outLen):\n",
        "        for i in range(inLen):\n",
        "            out[o] += inputImageFlat[i] * mulWeights[i][o]\n",
        "        out[o] += biasWeights[o]\n",
        "    return out.tolist()"
      ],
      "metadata": {
        "id": "IfV5RJn9gP-A"
      },
      "execution_count": 3,
      "outputs": []
    },
    {
      "cell_type": "markdown",
      "source": [
        "`predict.py`"
      ],
      "metadata": {
        "id": "dVXrQ2lRsSf5"
      }
    },
    {
      "cell_type": "code",
      "source": [
        "from tensorflow import keras\n",
        "import numpy as np\n",
        "\n",
        "def show1dGrayImage(imgArr, xSize, ySize, xTraverse=True):\n",
        "    from PIL import Image\n",
        "    img = Image.new('L', (xSize, ySize))\n",
        "    if xTraverse:\n",
        "        for x in range(xSize):\n",
        "            for y in range(ySize):\n",
        "                img.putpixel((x, y), int(imgArr[x * ySize + y] * 255))\n",
        "    else:\n",
        "        for x in range(xSize):\n",
        "            for y in range(ySize):\n",
        "                img.putpixel((x, y), int(imgArr[y * xSize + x] * 255))\n",
        "    img.show()\n",
        "\n",
        "def _loadTestData():\n",
        "    # Load the data and split it between train and test sets\n",
        "    (x_train, y_train), (x_test, y_test) = keras.datasets.mnist.load_data()\n",
        "    # Scale images to the [0, 1] range\n",
        "    x_train = x_train.astype(\"float32\") / 255\n",
        "    x_test = x_test.astype(\"float32\") / 255\n",
        "    # Make sure images have shape (28, 28, 1)\n",
        "    x_train = np.expand_dims(x_train, -1)\n",
        "    x_test = np.expand_dims(x_test, -1)\n",
        "\n",
        "    testModel = x_test[0].reshape([1, 28, 28, -1])\n",
        "    return testModel\n",
        "\n",
        "def _loadWeightsFromJson(path: str) -> list:\n",
        "    with open(path, 'r') as fp:\n",
        "        data = json.load(fp)\n",
        "        fp.close()\n",
        "    return data\n",
        "\n",
        "def main():\n",
        "    model = keras.models.load_model(\"./trained_model.h5\", compile=True)\n",
        "    layer0_conv2d_weights = _loadWeightsFromJson('./weights/json/layer0_conv2d.json')\n",
        "    layer2_conv2d_weights = _loadWeightsFromJson('./weights/json/layer2_conv2d.json')\n",
        "    layer6_dense_weights = _loadWeightsFromJson('./weights/json/layer6_dense.json')\n",
        "    testModel = _loadTestData()\n",
        "    # testModel = testModel.reshape((1, 28, 28))\n",
        "    # print(model.layers[0])\n",
        "    # print(testModel)\n",
        "    show1dGrayImage(testModel.flatten(), 28, 28, False)\n",
        "    expected = model.predict(testModel)\n",
        "    print(f\"expected: {expected}\")\n",
        "\n",
        "    # layer 0 -> conv2d\n",
        "    # in shape = (28, 28, 1)\n",
        "    # out shape = (26, 26, 32)\n",
        "    layer0Out = conv2d(testModel[0], (28, 28, 1), layer0_conv2d_weights, (3, 3, 32))\n",
        "    # print(f\"layer0Out: {layer0Out}\")\n",
        "\n",
        "    # layer 0 activation function -> ReLU\n",
        "    # in shape = (26, 26, 32)\n",
        "    # out shape = (26, 26, 32)\n",
        "    layer0ReLU = ReLU(layer0Out, (26, 26, 32))\n",
        "    # print(f\"layer0ReLU: {layer0ReLU}\")\n",
        "\n",
        "    # layer 1 -> max pooling 2d\n",
        "    # in shape = (26, 26, 32)\n",
        "    # out shape = (13, 13, 32)\n",
        "    layer1Out = maxPooling2d(layer0ReLU, (26, 26, 32), (2, 2))\n",
        "    # print(f\"layer1Out: {layer1Out}\")\n",
        "\n",
        "    # layer 2 -> conv2d\n",
        "    # in shape = (13, 13, 32)\n",
        "    # out shape = (11, 11, 64)\n",
        "    layer2Out = conv2d(layer1Out, (13, 13, 32), layer2_conv2d_weights, (3, 3, 64))\n",
        "    # print(f\"layer2Out: {layer2Out}\")\n",
        "\n",
        "    # layer 2 activation function -> ReLU\n",
        "    # in shape = (11, 11, 64)\n",
        "    # out shape = (11, 11, 64)\n",
        "    layer2ReLU = ReLU(layer2Out, (11, 11, 64))\n",
        "    # print(f\"layer2ReLU: {layer2ReLU}\")\n",
        "\n",
        "    # layer 3 -> max pooling 2d\n",
        "    # in shape = (11, 11, 64)\n",
        "    # out shape = (5, 5, 64)\n",
        "    layer3Out = maxPooling2d(layer2ReLU, (11, 11, 64), (2, 2))\n",
        "    # print(f\"layer3Out: {layer3Out}\")\n",
        "\n",
        "    # layer 4 -> flatten\n",
        "    # in shape = (5, 5, 64)\n",
        "    # out shape = 1600\n",
        "    layer4Flatten = flatten(layer3Out)\n",
        "    # print(f\"layer4Flatten: {layer4Flatten}\")\n",
        "    \n",
        "    # layer 5 -> Dropout\n",
        "    # in shape = 1600\n",
        "    # out shape = 1600\n",
        "    layer5Dropout = dropout(layer4Flatten, 0.5)\n",
        "    # print(f\"layer5Dropout: {layer5Dropout}\")\n",
        "\n",
        "    # layer 6 -> Dense (fully connected)\n",
        "    # in shape = 1600\n",
        "    # out shape = 10\n",
        "    layer6Dense = dense(layer5Dropout, layer6_dense_weights, (1600, 10))\n",
        "    # print(f\"layer6Dense: {layer6Dense}\")\n",
        "\n",
        "    # layer 6 activation function -> softmax\n",
        "    # in shape = 10\n",
        "    # out shape = 10\n",
        "    layer6Softmax = softmax(layer6Dense)\n",
        "    # print(f\"layer6Softmax: {layer6Softmax}\")\n",
        "\n",
        "    print(f\"actual: {layer6Softmax}\")\n",
        "\n",
        "if __name__ == \"__main__\":\n",
        "    main()\n"
      ],
      "metadata": {
        "colab": {
          "base_uri": "https://localhost:8080/",
          "height": 132
        },
        "id": "xmKeavJ5gzzu",
        "outputId": "0a756e72-6ad5-4eeb-a155-2414a8b832f3"
      },
      "execution_count": 4,
      "outputs": [
        {
          "output_type": "display_data",
          "data": {
            "text/plain": [
              "<PIL.Image.Image image mode=L size=28x28 at 0x7F150C5CAEB0>"
            ],
            "image/png": "[encoded data removed]"
          },
          "metadata": {}
        },
        {
          "output_type": "stream",
          "name": "stdout",
          "text": [
            "1/1 [==============================] - 0s 152ms/step\n",
            "expected: [[2.66833750e-10 1.66843622e-11 1.41195119e-06 3.90745163e-06\n",
            "  7.59192310e-14 1.49637649e-10 1.08032766e-16 9.99994397e-01\n",
            "  1.81307787e-08 2.65088858e-07]]\n",
            "actual: [2.177382901536185e-09, 4.2175811089589056e-07, 8.588242303332707e-06, 5.901245541715129e-06, 5.997974092520852e-11, 2.9808442968862125e-10, 2.2218616068908406e-13, 0.9999833790087868, 4.421166111058676e-07, 1.2650929767611926e-06]\n"
          ]
        }
      ]
    },
    {
      "cell_type": "markdown",
      "source": [
        "`test.py`"
      ],
      "metadata": {
        "id": "1ZDR6P2tbewT"
      }
    },
    {
      "cell_type": "code",
      "source": [
        "model = keras.models.load_model(\"./trained_model.h5\", compile=True)\n",
        "# modelTemp = model.layers[0]\n",
        "\n",
        "modelTemp = keras.models.Sequential()\n",
        "modelTemp.add(model.layers[0])\n",
        "modelTemp.add(model.layers[1])\n",
        "modelTemp.add(model.layers[2])\n",
        "modelTemp.add(model.layers[3])\n",
        "modelTemp.add(model.layers[4])\n",
        "modelTemp.add(model.layers[5])\n",
        "modelTemp.add(model.layers[6])\n",
        "\n",
        "# expected\n",
        "import tensorflow as tf\n",
        "testModel = _loadTestData()\n",
        "ex = modelTemp.call(tf.convert_to_tensor(testModel))[0]\n",
        "print(ex.shape)\n",
        "\n",
        "# actual\n",
        "layer0_conv2d_weights = _loadWeightsFromJson('./weights/json/layer0_conv2d.json')\n",
        "layer2_conv2d_weights = _loadWeightsFromJson('./weights/json/layer2_conv2d.json')\n",
        "layer6_dense_weights = _loadWeightsFromJson('./weights/json/layer6_dense.json')\n",
        "layer0Out = conv2d(testModel[0], (28, 28, 1), layer0_conv2d_weights, (3, 3, 32))\n",
        "layer0ReLU = ReLU(layer0Out, (26, 26, 32))\n",
        "layer1Out = maxPooling2d(layer0ReLU, (26, 26, 32), (2, 2))\n",
        "layer2Out = conv2d(layer1Out, (13, 13, 32), layer2_conv2d_weights, (3, 3, 64))\n",
        "layer2ReLU = ReLU(layer2Out, (11, 11, 64))\n",
        "layer3Out = maxPooling2d(layer2ReLU, (11, 11, 64), (2, 2))\n",
        "layer4Flatten = flatten(layer3Out)\n",
        "layer5Dropout = dropout(layer4Flatten, 0.5)\n",
        "layer6Dense = dense(layer5Dropout, layer6_dense_weights, (1600, 10))\n",
        "layer6Softmax = softmax(layer6Dense)\n",
        "# layer2Out = conv2d(layer1Out, (13, 13, 32), layer2_conv2d_weights, (3, 3, 64))\n",
        "ac = np.array(layer6Softmax)\n",
        "print(ac.shape)"
      ],
      "metadata": {
        "colab": {
          "base_uri": "https://localhost:8080/"
        },
        "id": "2dsRw4X-aG30",
        "outputId": "46e67324-a346-455a-c6c2-985e1c622433"
      },
      "execution_count": 5,
      "outputs": [
        {
          "output_type": "stream",
          "name": "stdout",
          "text": [
            "(10,)\n",
            "(10,)\n"
          ]
        }
      ]
    },
    {
      "cell_type": "code",
      "source": [
        "count = 0\n",
        "# for x in range(5):\n",
        "#     for y in range(5):\n",
        "#         for ch in range(64):\n",
        "#             # if abs(ex[x, y, ch] - ac[x, y, ch]) > 1:\n",
        "#             if ac[x, y, ch] != 0:\n",
        "#                 if abs(ex[x, y, ch] - ac[x, y, ch]) > 1e-5:\n",
        "#                     count += 1\n",
        "#                     # print(f\"{x}, {y}, {ch}, ex: {ex[x, y, ch]}, ac: {ac[x, y, ch]}, diff: {ex[x, y, ch] - ac[x, y, ch]}\")\n",
        "for x in range(10):\n",
        "    if abs(ex[x] - ac[x]) > 0.1:\n",
        "        count += 1\n",
        "        print(f\"{x}, ex: {ex[x]}, ac: {ac[x]}, diff: {ex[x] - ac[x]}\")\n",
        "print(count)"
      ],
      "metadata": {
        "colab": {
          "base_uri": "https://localhost:8080/"
        },
        "id": "N8qD-AxUrfv0",
        "outputId": "ced17fd5-ba84-4d1a-a7ec-1ba113de7125"
      },
      "execution_count": 6,
      "outputs": [
        {
          "output_type": "stream",
          "name": "stdout",
          "text": [
            "0\n"
          ]
        }
      ]
    },
    {
      "cell_type": "code",
      "source": [],
      "metadata": {
        "id": "sC9loNL0tpAS"
      },
      "execution_count": 6,
      "outputs": []
    }
  ]
}